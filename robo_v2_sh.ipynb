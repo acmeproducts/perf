{
  "cells": [
    {
      "cell_type": "markdown",
      "metadata": {
        "id": "view-in-github",
        "colab_type": "text"
      },
      "source": [
        "<a href=\"https://colab.research.google.com/github/acmeproducts/perf/blob/main/robo_v2_sh.ipynb\" target=\"_parent\"><img src=\"https://colab.research.google.com/assets/colab-badge.svg\" alt=\"Open In Colab\"/></a>"
      ]
    },
    {
      "cell_type": "markdown",
      "metadata": {
        "id": "yHKL13p3wwMw"
      },
      "source": []
    },
    {
      "cell_type": "code",
      "execution_count": 1,
      "metadata": {
        "cellView": "form",
        "colab": {
          "base_uri": "https://localhost:8080/"
        },
        "id": "iEZ0VUoKCEEk",
        "outputId": "c079f5ab-241e-4d9b-a56d-7c3eae44917d"
      },
      "outputs": [
        {
          "output_type": "stream",
          "name": "stdout",
          "text": [
            "Drive not mounted, so nothing to flush and unmount.\n"
          ]
        }
      ],
      "source": [
        "# @title Default title text\n",
        "from google.colab import drive\n",
        "drive.flush_and_unmount(10000)"
      ]
    },
    {
      "cell_type": "code",
      "execution_count": 2,
      "metadata": {
        "cellView": "form",
        "colab": {
          "base_uri": "https://localhost:8080/"
        },
        "id": "PTkaamk6IJSL",
        "outputId": "735cbb8f-90a7-4540-b12c-139e7baf50c4"
      },
      "outputs": [
        {
          "output_type": "stream",
          "name": "stdout",
          "text": [
            "Mounted at /content/drive\n"
          ]
        }
      ],
      "source": [
        "# @title Default title text\n",
        "from google.colab import drive\n",
        "drive.mount('/content/drive',force_remount=True)"
      ]
    },
    {
      "cell_type": "code",
      "execution_count": 3,
      "metadata": {
        "cellView": "form",
        "colab": {
          "base_uri": "https://localhost:8080/"
        },
        "collapsed": true,
        "id": "AHSF0G5D_0qX",
        "outputId": "2ddf6a8b-0a9e-49ab-ae01-f52d87add2be"
      },
      "outputs": [
        {
          "output_type": "stream",
          "name": "stdout",
          "text": [
            "RowNumber,project_id,Object,Size,Depth,Color,Texture,Placement,Backdrop,Adjective 1,Adjective 2,Qualifier 1,Model,Height,Width,Steps,Seed,CFG_Scale,negative_prompt,,,Unnamed: 19,,,,,,,,,,,,dark tan smile,Filipina,American woman,\"waist-length-long-straight-black-hair ,  slender waist\",39,year  old,8 inch stilleto heels,thirst trap\r\n",
            "1,t916,\"Split composition, Rule of thirds, Pop art, Vibrant tropical sunset, Spotlight effect, Fresco, Serene calm, Simple white.\",,,,,,,,,,lustify-sdxl,1280,720,30,,8,\"Women under 25, extra limbs, distorted proportions, missing parts, extra digits, unnatural poses, out of proportion features, ugly depictions, abnormalities, grotesque, surreal, abstract interpretations, incorrect anatomy, unnatural poses, unhealthy bodies, unattractive features, blurry, out of focus, poor representation of facial features, anything not depicting a normal, healthy, aesthetically pleasing woman in a natural, attractive pose, not life-like, cartoonish, stylized, or exaggerated features.\",,,,,,,,,,,,,,,,,,,,,,\r\n",
            "2,t916,\"Diagonal lines composition, Visual weight distribution, Photorealistic, Nature-inspired greens, Dramatic chiaroscuro, Lithograph, Harmonious balance, No frame.\",,,,,,,,,,lustify-sdxl,1280,720,30,,10,\"Women under 25, extra limbs, distorted proportions, missing parts, extra digits, unnatural poses, out of proportion features, ugly depictions, abnormalities, grotesque, surreal, abstract interpretations, incorrect anatomy, unnatural poses, unhealthy bodies, unattractive features, blurry, out of focus, poor representation of facial features, anything not depicting a normal, healthy, aesthetically pleasing woman in a natural, attractive pose, not life-like, cartoonish, stylized, or exaggerated features.\",,,,,,,,,,,,,,,,,,,,,,\r\n",
            "3,t916,\"Macro perspective, Rule of thirds, Pop art, Cool blues and greens, Broad lighting, Spray paint, Quiet contemplation, Shadow box.\",,,,,,,,,,lustify-sdxl,1280,720,30,,10,\"Women under 25, extra limbs, distorted proportions, missing parts, extra digits, unnatural poses, out of proportion features, ugly depictions, abnormalities, grotesque, surreal, abstract interpretations, incorrect anatomy, unnatural poses, unhealthy bodies, unattractive features, blurry, out of focus, poor representation of facial features, anything not depicting a normal, healthy, aesthetically pleasing woman in a natural, attractive pose, not life-like, cartoonish, stylized, or exaggerated features.\",,,,,,,,,,,,,,,,,,,,,,\r\n",
            "4,t916,\"Minimalist framing, Dynamic tension, Graphic, Muted grays and beiges, Overhead lighting, Collage, Dynamic movement, Vintage wooden.\",,,,,,,,,,lustify-sdxl,1280,720,30,,8,\"Women under 25, extra limbs, distorted proportions, missing parts, extra digits, unnatural poses, out of proportion features, ugly depictions, abnormalities, grotesque, surreal, abstract interpretations, incorrect anatomy, unnatural poses, unhealthy bodies, unattractive features, blurry, out of focus, poor representation of facial features, anything not depicting a normal, healthy, aesthetically pleasing woman in a natural, attractive pose, not life-like, cartoonish, stylized, or exaggerated features.\",,,,,,,,,,,,,,,,,,,,,,\r\n",
            "5,t916,\"Layered depth, Balanced asymmetry, Conceptual, Cool blues and greens, Front lighting, Digital art, Harmonious balance, Beveled black laquer.\",,,,,,,,,,lustify-sdxl,1280,720,30,,7,\"Women under 25, extra limbs, distorted proportions, missing parts, extra digits, unnatural poses, out of proportion features, ugly depictions, abnormalities, grotesque, surreal, abstract interpretations, incorrect anatomy, unnatural poses, unhealthy bodies, unattractive features, blurry, out of focus, poor representation of facial features, anything not depicting a normal, healthy, aesthetically pleasing woman in a natural, attractive pose, not life-like, cartoonish, stylized, or exaggerated features.\",,,,,,,,,,,,,,,,,,,,,,\r\n",
            "6,t916,\"Asymmetrical framing, Texture contrast, Impressionist, Muted grays and beiges, Volumetric lighting, Fresco, Whimsical playfulness, No frame.\",,,,,,,,,,lustify-sdxl,1280,720,30,,10,\"Women under 25, extra limbs, distorted proportions, missing parts, extra digits, unnatural poses, out of proportion features, ugly depictions, abnormalities, grotesque, surreal, abstract interpretations, incorrect anatomy, unnatural poses, unhealthy bodies, unattractive features, blurry, out of focus, poor representation of facial features, anything not depicting a normal, healthy, aesthetically pleasing woman in a natural, attractive pose, not life-like, cartoonish, stylized, or exaggerated features.\",,,,,,,,,,,,,,,,,,,,,,\r\n",
            "7,t916,\"Landscape, Minimalist, Abstract, Split-complementary, Soft natural light, Watercolor, Intense emotion, Silver metallic.\",,,,,,,,,,lustify-sdxl,1280,720,30,,8,\"Women under 25, extra limbs, distorted proportions, missing parts, extra digits, unnatural poses, out of proportion features, ugly depictions, abnormalities, grotesque, surreal, abstract interpretations, incorrect anatomy, unnatural poses, unhealthy bodies, unattractive features, blurry, out of focus, poor representation of facial features, anything not depicting a normal, healthy, aesthetically pleasing woman in a natural, attractive pose, not life-like, cartoonish, stylized, or exaggerated features.\",,,,,,,,,,,,,,,,,,,,,,\r\n",
            "8,t916,\"Diagonal lines composition, Leading lines, Minimalist, Calm blues and whites, Short lighting, Pencil drawing, Dreamy atmosphere, Shadow box.\",,,,,,,,,,lustify-sdxl,1280,720,30,,8,\"Women under 25, extra limbs, distorted proportions, missing parts, extra digits, unnatural poses, out of proportion features, ugly depictions, abnormalities, grotesque, surreal, abstract interpretations, incorrect anatomy, unnatural poses, unhealthy bodies, unattractive features, blurry, out of focus, poor representation of facial features, anything not depicting a normal, healthy, aesthetically pleasing woman in a natural, attractive pose, not life-like, cartoonish, stylized, or exaggerated features.\",,,,,,,,,,,,,,,,,,,,,,\r\n",
            "9,t916,\"Rule of thirds composition, Radial, Minimalist, Split-complementary, Front lighting, Fresco, Dynamic movement, Beveled black laquer.\",,,,,,,,,,lustify-sdxl,1280,720,30,,8,\"Women under 25, extra limbs, distorted proportions, missing parts, extra digits, unnatural poses, out of proportion features, ugly depictions, abnormalities, grotesque, surreal, abstract interpretations, incorrect anatomy, unnatural poses, unhealthy bodies, unattractive features, blurry, out of focus, poor representation of facial features, anything not depicting a normal, healthy, aesthetically pleasing woman in a natural, attractive pose, not life-like, cartoonish, stylized, or exaggerated features.\",,,,,,,,,,,,,,,,,,,,,,\n",
            "91,t916,\"Wide angle, Negative space, Naive, influenced by John Singer Sargent, Split-complementary, Volumetric lighting, Digital art, Grainy film, Quiet contemplation, Silver metallic.\",,,,,,,,,,lustify-sdxl,1280,720,30,,9,\"Women under 25, extra limbs, distorted proportions, missing parts, extra digits, unnatural poses, out of proportion features, ugly depictions, abnormalities, grotesque, surreal, abstract interpretations, incorrect anatomy, unnatural poses, unhealthy bodies, unattractive features, blurry, out of focus, poor representation of facial features, anything not depicting a normal, healthy, aesthetically pleasing woman in a natural, attractive pose, not life-like, cartoonish, stylized, or exaggerated features.\",,,,,,,,,,,,,,,,,,,,,,\n",
            "92,t916,\"Leading lines composition, Layered depth, Baroque, influenced by Claude Monet, High contrast complementary, Front lighting, Mixed media, Rough canvas, Timeless elegance, Floating frame.\",,,,,,,,,,lustify-sdxl,1280,720,30,,9,\"Women under 25, extra limbs, distorted proportions, missing parts, extra digits, unnatural poses, out of proportion features, ugly depictions, abnormalities, grotesque, surreal, abstract interpretations, incorrect anatomy, unnatural poses, unhealthy bodies, unattractive features, blurry, out of focus, poor representation of facial features, anything not depicting a normal, healthy, aesthetically pleasing woman in a natural, attractive pose, not life-like, cartoonish, stylized, or exaggerated features.\",,,,,,,,,,,,,,,,,,,,,,\n",
            "93,t916,\"Asymmetrical framing, Negative space, Photorealistic, influenced by John Singer Sargent, Warm earth tones, Split lighting, Acrylic paint, Rough canvas, Modern edge, Picture frame.\",,,,,,,,,,lustify-sdxl,1280,720,30,,9,\"Women under 25, extra limbs, distorted proportions, missing parts, extra digits, unnatural poses, out of proportion features, ugly depictions, abnormalities, grotesque, surreal, abstract interpretations, incorrect anatomy, unnatural poses, unhealthy bodies, unattractive features, blurry, out of focus, poor representation of facial features, anything not depicting a normal, healthy, aesthetically pleasing woman in a natural, attractive pose, not life-like, cartoonish, stylized, or exaggerated features.\",,,,,,,,,,,,,,,,,,,,,,\n",
            "94,t916,\"Worm's eye view, Visual weight distribution, Naive, influenced by Albrecht Durer, Monochromatic variations, Overhead lighting, Spray paint, Textured paper, Harmonious balance, Silver metallic.\",,,,,,,,,,lustify-sdxl,1280,720,30,,9,\"Women under 25, extra limbs, distorted proportions, missing parts, extra digits, unnatural poses, out of proportion features, ugly depictions, abnormalities, grotesque, surreal, abstract interpretations, incorrect anatomy, unnatural poses, unhealthy bodies, unattractive features, blurry, out of focus, poor representation of facial features, anything not depicting a normal, healthy, aesthetically pleasing woman in a natural, attractive pose, not life-like, cartoonish, stylized, or exaggerated features.\",,,,,,,,,,,,,,,,,,,,,,\n",
            "95,t916,\"Landscape, Dynamic tension, Abstract, influenced by Vincent Van Gogh, High contrast complementary, Spotlight effect, Lithograph, Grainy film, Nostalgic memory, Silver metallic.\",,,,,,,,,,lustify-sdxl,1280,720,30,,9,\"Women under 25, extra limbs, distorted proportions, missing parts, extra digits, unnatural poses, out of proportion features, ugly depictions, abnormalities, grotesque, surreal, abstract interpretations, incorrect anatomy, unnatural poses, unhealthy bodies, unattractive features, blurry, out of focus, poor representation of facial features, anything not depicting a normal, healthy, aesthetically pleasing woman in a natural, attractive pose, not life-like, cartoonish, stylized, or exaggerated features.\",,,,,,,,,,,,,,,,,,,,,,\n",
            "96,t916,\"Minimalist framing, Centered subject, Art deco, influenced by Salvador Dali, Warm color dominance, Front lighting, Acrylic paint, Textured paper, Dynamic movement, Simple white.\",,,,,,,,,,lustify-sdxl,1280,720,30,,9,\"Women under 25, extra limbs, distorted proportions, missing parts, extra digits, unnatural poses, out of proportion features, ugly depictions, abnormalities, grotesque, surreal, abstract interpretations, incorrect anatomy, unnatural poses, unhealthy bodies, unattractive features, blurry, out of focus, poor representation of facial features, anything not depicting a normal, healthy, aesthetically pleasing woman in a natural, attractive pose, not life-like, cartoonish, stylized, or exaggerated features.\",,,,,,,,,,,,,,,,,,,,,,\n",
            "97,t916,\"Portrait, Radial, Art nouveau, influenced by Winslow Homer, Sunset oranges and pinks, Softbox lighting, Woodcut, Hard edges, Euphoric joy, Single mat.\",,,,,,,,,,lustify-sdxl,1280,720,30,,9,\"Women under 25, extra limbs, distorted proportions, missing parts, extra digits, unnatural poses, out of proportion features, ugly depictions, abnormalities, grotesque, surreal, abstract interpretations, incorrect anatomy, unnatural poses, unhealthy bodies, unattractive features, blurry, out of focus, poor representation of facial features, anything not depicting a normal, healthy, aesthetically pleasing woman in a natural, attractive pose, not life-like, cartoonish, stylized, or exaggerated features.\",,,,,,,,,,,,,,,,,,,,,,\n",
            "98,t916,\"Worm's eye view, Centered subject, Contemporary, influenced by Francisco Goya, Tetradic color scheme, Broad lighting, Collage, Charcoal smudging, Classic refinement, Rustic barnwood.\",,,,,,,,,,lustify-sdxl,1280,720,30,,9,\"Women under 25, extra limbs, distorted proportions, missing parts, extra digits, unnatural poses, out of proportion features, ugly depictions, abnormalities, grotesque, surreal, abstract interpretations, incorrect anatomy, unnatural poses, unhealthy bodies, unattractive features, blurry, out of focus, poor representation of facial features, anything not depicting a normal, healthy, aesthetically pleasing woman in a natural, attractive pose, not life-like, cartoonish, stylized, or exaggerated features.\",,,,,,,,,,,,,,,,,,,,,,\n",
            "99,t916,\"Panoramic view, Leading lines, Art nouveau, influenced by Frida Kahlo, Warm earth tones, Volumetric lighting, Encaustic, Glossy finish, Peaceful tranquility, Digital presentation.\",,,,,,,,,,lustify-sdxl,1280,720,30,,9,\"Women under 25, extra limbs, distorted proportions, missing parts, extra digits, unnatural poses, out of proportion features, ugly depictions, abnormalities, grotesque, surreal, abstract interpretations, incorrect anatomy, unnatural poses, unhealthy bodies, unattractive features, blurry, out of focus, poor representation of facial features, anything not depicting a normal, healthy, aesthetically pleasing woman in a natural, attractive pose, not life-like, cartoonish, stylized, or exaggerated features.\",,,,,,,,,,,,,,,,,,,,,,\n",
            "100,t916,\"Bird's eye view, Balanced asymmetry, Naive, influenced by Francisco Goya, Nature-inspired greens, Cinematic lighting, Gouache, Rough canvas, Intense emotion, Rustic barnwood.\",,,,,,,,,,lustify-sdxl,1280,720,30,,9,\"Women under 25, extra limbs, distorted proportions, missing parts, extra digits, unnatural poses, out of proportion features, ugly depictions, abnormalities, grotesque, surreal, abstract interpretations, incorrect anatomy, unnatural poses, unhealthy bodies, unattractive features, blurry, out of focus, poor representation of facial features, anything not depicting a normal, healthy, aesthetically pleasing woman in a natural, attractive pose, not life-like, cartoonish, stylized, or exaggerated features.\",,,,,,,,,,,,,,,,,,,,,,"
          ]
        }
      ],
      "source": [
        "# @title Default title text\n",
        "!cat \"/content/drive/MyDrive/Image_Generation/xyz.csv\" | head\n",
        "# @title Default title text\n",
        "!cat \"/content/drive/MyDrive/Image_Generation/xyz.csv\" | tail"
      ]
    },
    {
      "cell_type": "code",
      "execution_count": null,
      "metadata": {
        "cellView": "form",
        "colab": {
          "background_save": true,
          "base_uri": "https://localhost:8080/"
        },
        "id": "noDIyuJWFmYd",
        "outputId": "49c51146-ad32-46e0-d3e5-b476edbc3e65"
      },
      "outputs": [
        {
          "output_type": "stream",
          "name": "stdout",
          "text": [
            "**Starting image generation process with defaults:**\n",
            "  - Number of loops: 7\n",
            "  - Wait interval: 10 seconds\n",
            "\n",
            "**Loop 1 of 7**\n",
            "  - Completed loops: 0\n",
            "  - Remaining loops: 7\n",
            "  - Start time: 2025-09-16 20:42:57\n",
            "  - Cumulative duration: 00:00:00\n",
            "Normalized columns found: ['rownumber', 'project_id', 'object', 'size', 'depth', 'color', 'texture', 'placement', 'backdrop', 'adjective_1', 'adjective_2', 'qualifier_1', 'model', 'height', 'width', 'steps', 'seed', 'cfg_scale', 'negative_prompt', 'unnamed:_19.1', 'unnamed:_20', 'unnamed:_19', 'unnamed:_22', 'unnamed:_23', 'unnamed:_24', 'unnamed:_25', 'unnamed:_26', 'unnamed:_27', 'unnamed:_28', 'unnamed:_29', 'unnamed:_30', 'unnamed:_31', 'unnamed:_32', 'dark_tan_smile', 'filipina', 'american_woman', 'waist-length-long-straight-black-hair_,__slender_waist', '39', 'year__old', '8_inch_stilleto_heels', 'thirst_trap']\n",
            "Total rows to process: 100\n",
            "API status code for Row 1: 200\n",
            "API status code for Row 2: 200\n"
          ]
        }
      ],
      "source": [
        "# @title Default title text\n",
        "%%shell\n",
        "\n",
        "#!/bin/bash\n",
        "\n",
        "# Set default valued\n",
        "num_loops=7\n",
        "wait_interval=10\n",
        "\n",
        "completed_loops=0\n",
        "start_time=$(date +\"%Y-%m-%d %H:%M:%S\")  # Capture start time in correct format\n",
        "total_duration=0\n",
        "\n",
        "echo \"**Starting image generation process with defaults:**\"\n",
        "echo \"  - Number of loops: $num_loops\"\n",
        "echo \"  - Wait interval: $wait_interval seconds\"\n",
        "\n",
        "\n",
        "#  echo \"  - Sleeping for $wait_interval seconds...\"\n",
        "#  sleep \"$wait_interval\"\n",
        "\n",
        "for ((i=1; i<=num_loops; i++)); do\n",
        "  echo \"\"\n",
        "  echo \"**Loop $i of $num_loops**\"\n",
        "  echo \"  - Completed loops: $completed_loops\"\n",
        "  echo \"  - Remaining loops: $((num_loops - completed_loops))\"\n",
        "\n",
        "  # Calculate elapsed duration since start\n",
        "  current_time=$(date +\"%Y-%m-%d %H:%M:%S\")\n",
        "  elapsed_seconds=$(( $(date -d \"$current_time\" +%s) - $(date -d \"$start_time\" +%s) ))\n",
        "  elapsed_time=$(date -d \"00:00:$elapsed_seconds\" +%H:%M:%S)\n",
        "  echo \"  - Start time: $start_time\"\n",
        "  echo \"  - Cumulative duration: $elapsed_time\"\n",
        "\n",
        "  # Run the Python script\n",
        "  python /content/drive/MyDrive/Image_Generation/Python_Code/go.py\n",
        "\n",
        "  # Update loop counter and total duration\n",
        "  completed_loops=$((completed_loops + 1))\n",
        "  total_duration=$((total_duration + wait_interval))\n",
        "\n",
        "  echo \"  - Sleeping for $wait_interval seconds...\"\n",
        "  sleep \"$wait_interval\"\n",
        "done\n",
        "\n",
        "echo \"**All loops completed.**\"\n",
        "echo \"  - Total duration: $(date -d \"00:00:$total_duration\" +%H:%M:%S)\"\n",
        "\n",
        "echo \"**All loops completed.**\"\n",
        "echo \"  - Total duration: $(date -d \"00:00:$total_duration\" +%H:%M:%S)\""
      ]
    }
  ],
  "metadata": {
    "colab": {
      "provenance": [],
      "authorship_tag": "ABX9TyOOM295cUMjsoARl30GXlAL",
      "include_colab_link": true
    },
    "kernelspec": {
      "display_name": "Python 3",
      "name": "python3"
    },
    "language_info": {
      "name": "python"
    }
  },
  "nbformat": 4,
  "nbformat_minor": 0
}